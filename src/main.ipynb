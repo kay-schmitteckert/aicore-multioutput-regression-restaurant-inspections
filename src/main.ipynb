{
    "cells": [
        {
            "cell_type": "code",
            "execution_count": 55,
            "metadata": {},
            "outputs": [],
            "source": [
                "import json\n",
                "import sys, os\n",
                "import requests\n",
                "import base64\n",
                "import time\n",
                "import yaml\n",
                "from IPython.display import clear_output\n",
                "from pprint import pprint\n",
                "\n",
                "from ai_api_client_sdk.ai_api_v2_client import AIAPIV2Client\n",
                "from ai_api_client_sdk.models.artifact import Artifact\n",
                "from ai_api_client_sdk.models.status import Status\n",
                "from ai_api_client_sdk.models.target_status import TargetStatus\n",
                "from ai_api_client_sdk.models.parameter_binding import ParameterBinding\n",
                "from ai_api_client_sdk.models.input_artifact_binding import InputArtifactBinding"
            ]
        },
        {
            "cell_type": "code",
            "execution_count": 56,
            "metadata": {},
            "outputs": [],
            "source": [
                "# Setup\n",
                "aic_service_key_path = '../resources/aic_service_key.json'\n",
                "git_setup_file_path = \"../resources/git_setup.json\"\n",
                "docker_secret_file_path = '../resources/docker_secret.json'\n",
                "resource_group = \"restaurant-inspections\"\n",
                "s3_service_key_path = '../resources/s3_service_key.json'\n",
                "training_workflow_file = '../workflows/train.yaml'\n",
                "serving_workflow_file = '../workflows/serve.yaml'\n",
                "connection_name = \"default\"\n",
                "path_prefix = \"app\""
            ]
        },
        {
            "cell_type": "markdown",
            "metadata": {},
            "source": [
                "# Manage the ML lifecycle in the cloud using AI Core and AI Core Python SDK"
            ]
        },
        {
            "cell_type": "markdown",
            "metadata": {},
            "source": [
                "### Connect to your AI Core instance"
            ]
        },
        {
            "cell_type": "code",
            "execution_count": 57,
            "metadata": {},
            "outputs": [],
            "source": [
                "with open(aic_service_key_path) as ask:\n",
                "    aic_service_key = json.load(ask)\n",
                "\n",
                "# AI API client that talks to the AI Core instance.\n",
                "ai_api_client = AIAPIV2Client(\n",
                "    base_url = aic_service_key[\"serviceurls\"][\"AI_API_URL\"] + \"/v2\", # The present AI API version is 2\n",
                "    auth_url=  aic_service_key[\"url\"] + \"/oauth/token\",\n",
                "    client_id = aic_service_key['clientid'],\n",
                "    client_secret = aic_service_key['clientsecret']\n",
                ")"
            ]
        },
        {
            "cell_type": "markdown",
            "metadata": {},
            "source": [
                "### Onboard your Git repository that contains the templates"
            ]
        },
        {
            "cell_type": "code",
            "execution_count": 58,
            "metadata": {},
            "outputs": [
                {
                    "ename": "AIAPIServerException",
                    "evalue": "Failed to post /admin/repositories: Repository is already onboarded",
                    "output_type": "error",
                    "traceback": [
                        "\u001b[0;31m---------------------------------------------------------------------------\u001b[0m",
                        "\u001b[0;31mAIAPIServerException\u001b[0m                      Traceback (most recent call last)",
                        "\u001b[1;32m/Users/I529695/Projects/sce/DiscoveryCenter/qatargas/aicore-restaurant-inspections/src/main.ipynb Cell 7'\u001b[0m in \u001b[0;36m<cell line: 6>\u001b[0;34m()\u001b[0m\n\u001b[1;32m      <a href='vscode-notebook-cell:/Users/I529695/Projects/sce/DiscoveryCenter/qatargas/aicore-restaurant-inspections/src/main.ipynb#ch0000006?line=1'>2</a>\u001b[0m \t\tsetup_json \u001b[39m=\u001b[39m json\u001b[39m.\u001b[39mload(gs)\n\u001b[1;32m      <a href='vscode-notebook-cell:/Users/I529695/Projects/sce/DiscoveryCenter/qatargas/aicore-restaurant-inspections/src/main.ipynb#ch0000006?line=3'>4</a>\u001b[0m repo_json \u001b[39m=\u001b[39m setup_json[\u001b[39m\"\u001b[39m\u001b[39mrepo\u001b[39m\u001b[39m\"\u001b[39m]\n\u001b[0;32m----> <a href='vscode-notebook-cell:/Users/I529695/Projects/sce/DiscoveryCenter/qatargas/aicore-restaurant-inspections/src/main.ipynb#ch0000006?line=5'>6</a>\u001b[0m response \u001b[39m=\u001b[39m ai_api_client\u001b[39m.\u001b[39;49mrest_client\u001b[39m.\u001b[39;49mpost(\n\u001b[1;32m      <a href='vscode-notebook-cell:/Users/I529695/Projects/sce/DiscoveryCenter/qatargas/aicore-restaurant-inspections/src/main.ipynb#ch0000006?line=6'>7</a>\u001b[0m \t\tpath\u001b[39m=\u001b[39;49m\u001b[39m\"\u001b[39;49m\u001b[39m/admin/repositories\u001b[39;49m\u001b[39m\"\u001b[39;49m,\n\u001b[1;32m      <a href='vscode-notebook-cell:/Users/I529695/Projects/sce/DiscoveryCenter/qatargas/aicore-restaurant-inspections/src/main.ipynb#ch0000006?line=7'>8</a>\u001b[0m \t\tbody\u001b[39m=\u001b[39;49m{\n\u001b[1;32m      <a href='vscode-notebook-cell:/Users/I529695/Projects/sce/DiscoveryCenter/qatargas/aicore-restaurant-inspections/src/main.ipynb#ch0000006?line=8'>9</a>\u001b[0m \t\t\t\t\u001b[39m\"\u001b[39;49m\u001b[39mname\u001b[39;49m\u001b[39m\"\u001b[39;49m: repo_json[\u001b[39m\"\u001b[39;49m\u001b[39mname\u001b[39;49m\u001b[39m\"\u001b[39;49m],\n\u001b[1;32m     <a href='vscode-notebook-cell:/Users/I529695/Projects/sce/DiscoveryCenter/qatargas/aicore-restaurant-inspections/src/main.ipynb#ch0000006?line=9'>10</a>\u001b[0m \t\t\t\t\u001b[39m\"\u001b[39;49m\u001b[39murl\u001b[39;49m\u001b[39m\"\u001b[39;49m: repo_json[\u001b[39m\"\u001b[39;49m\u001b[39murl\u001b[39;49m\u001b[39m\"\u001b[39;49m],\n\u001b[1;32m     <a href='vscode-notebook-cell:/Users/I529695/Projects/sce/DiscoveryCenter/qatargas/aicore-restaurant-inspections/src/main.ipynb#ch0000006?line=10'>11</a>\u001b[0m \t\t\t\t\u001b[39m\"\u001b[39;49m\u001b[39musername\u001b[39;49m\u001b[39m\"\u001b[39;49m: repo_json[\u001b[39m\"\u001b[39;49m\u001b[39musername\u001b[39;49m\u001b[39m\"\u001b[39;49m],\n\u001b[1;32m     <a href='vscode-notebook-cell:/Users/I529695/Projects/sce/DiscoveryCenter/qatargas/aicore-restaurant-inspections/src/main.ipynb#ch0000006?line=11'>12</a>\u001b[0m \t\t\t\t\u001b[39m\"\u001b[39;49m\u001b[39mpassword\u001b[39;49m\u001b[39m\"\u001b[39;49m: repo_json[\u001b[39m\"\u001b[39;49m\u001b[39mpassword\u001b[39;49m\u001b[39m\"\u001b[39;49m]\n\u001b[1;32m     <a href='vscode-notebook-cell:/Users/I529695/Projects/sce/DiscoveryCenter/qatargas/aicore-restaurant-inspections/src/main.ipynb#ch0000006?line=12'>13</a>\u001b[0m \t\t}\n\u001b[1;32m     <a href='vscode-notebook-cell:/Users/I529695/Projects/sce/DiscoveryCenter/qatargas/aicore-restaurant-inspections/src/main.ipynb#ch0000006?line=13'>14</a>\u001b[0m )\n\u001b[1;32m     <a href='vscode-notebook-cell:/Users/I529695/Projects/sce/DiscoveryCenter/qatargas/aicore-restaurant-inspections/src/main.ipynb#ch0000006?line=14'>15</a>\u001b[0m \u001b[39mprint\u001b[39m(response)\n",
                        "File \u001b[0;32m/usr/local/Caskroom/miniconda/base/envs/qatar-dc/lib/python3.9/site-packages/ai_api_client_sdk/helpers/rest_client.py:108\u001b[0m, in \u001b[0;36mRestClient.post\u001b[0;34m(self, path, body, resource_group)\u001b[0m\n\u001b[1;32m     83\u001b[0m \u001b[39mdef\u001b[39;00m \u001b[39mpost\u001b[39m(\u001b[39mself\u001b[39m, path: \u001b[39mstr\u001b[39m, body: Dict[\u001b[39mstr\u001b[39m, Union[\u001b[39mstr\u001b[39m, \u001b[39mdict\u001b[39m]] \u001b[39m=\u001b[39m \u001b[39mNone\u001b[39;00m, resource_group: \u001b[39mstr\u001b[39m \u001b[39m=\u001b[39m \u001b[39mNone\u001b[39;00m) \u001b[39m-\u001b[39m\u001b[39m>\u001b[39m \u001b[39mdict\u001b[39m:\n\u001b[1;32m     84\u001b[0m     \u001b[39m\"\"\"Sends a POST request to the server.\u001b[39;00m\n\u001b[1;32m     85\u001b[0m \n\u001b[1;32m     86\u001b[0m \u001b[39m    :param path: path of the endpoint the request should be sent to\u001b[39;00m\n\u001b[0;32m   (...)\u001b[0m\n\u001b[1;32m    106\u001b[0m \u001b[39m    :rtype: dict\u001b[39;00m\n\u001b[1;32m    107\u001b[0m \u001b[39m    \"\"\"\u001b[39;00m\n\u001b[0;32m--> 108\u001b[0m     \u001b[39mreturn\u001b[39;00m \u001b[39mself\u001b[39;49m\u001b[39m.\u001b[39;49m_handle_request(\u001b[39m'\u001b[39;49m\u001b[39mpost\u001b[39;49m\u001b[39m'\u001b[39;49m, path\u001b[39m=\u001b[39;49mpath, body_json\u001b[39m=\u001b[39;49mbody, resource_group\u001b[39m=\u001b[39;49mresource_group)\n",
                        "File \u001b[0;32m/usr/local/Caskroom/miniconda/base/envs/qatar-dc/lib/python3.9/site-packages/ai_api_client_sdk/helpers/rest_client.py:75\u001b[0m, in \u001b[0;36mRestClient._handle_request\u001b[0;34m(self, method, path, params, body_json, resource_group)\u001b[0m\n\u001b[1;32m     71\u001b[0m         \u001b[39mraise\u001b[39;00m AIAPIPreconditionFailedException(description\u001b[39m=\u001b[39merror_description, error_message\u001b[39m=\u001b[39merror_message,\n\u001b[1;32m     72\u001b[0m                                                error_code\u001b[39m=\u001b[39merror_code, request_id\u001b[39m=\u001b[39mrequest_id,\n\u001b[1;32m     73\u001b[0m                                                details\u001b[39m=\u001b[39merror_details)\n\u001b[1;32m     74\u001b[0m     \u001b[39melse\u001b[39;00m:\n\u001b[0;32m---> 75\u001b[0m         \u001b[39mraise\u001b[39;00m AIAPIServerException(status_code\u001b[39m=\u001b[39mstatus_code, description\u001b[39m=\u001b[39merror_description,\n\u001b[1;32m     76\u001b[0m                                    error_message\u001b[39m=\u001b[39merror_message, error_code\u001b[39m=\u001b[39merror_code, request_id\u001b[39m=\u001b[39mrequest_id,\n\u001b[1;32m     77\u001b[0m                                    details\u001b[39m=\u001b[39merror_details)\n\u001b[1;32m     78\u001b[0m \u001b[39melif\u001b[39;00m response\u001b[39m.\u001b[39mstatus_code \u001b[39m/\u001b[39m\u001b[39m/\u001b[39m \u001b[39m100\u001b[39m \u001b[39m!=\u001b[39m \u001b[39m2\u001b[39m:\n\u001b[1;32m     79\u001b[0m     \u001b[39mraise\u001b[39;00m AIAPIServerException(description\u001b[39m=\u001b[39merror_description, error_message\u001b[39m=\u001b[39mresponse\u001b[39m.\u001b[39mtext,\n\u001b[1;32m     80\u001b[0m                                status_code\u001b[39m=\u001b[39mresponse\u001b[39m.\u001b[39mstatus_code)\n",
                        "\u001b[0;31mAIAPIServerException\u001b[0m: Failed to post /admin/repositories: Repository is already onboarded"
                    ]
                }
            ],
            "source": [
                "with open(git_setup_file_path) as gs:\n",
                "\t\tsetup_json = json.load(gs)\n",
                "\n",
                "repo_json = setup_json[\"repo\"]\n",
                "\n",
                "response = ai_api_client.rest_client.post(\n",
                "\t\tpath=\"/admin/repositories\",\n",
                "\t\tbody={\n",
                "\t\t\t\t\"name\": repo_json[\"name\"],\n",
                "\t\t\t\t\"url\": repo_json[\"url\"],\n",
                "\t\t\t\t\"username\": repo_json[\"username\"],\n",
                "\t\t\t\t\"password\": repo_json[\"password\"]\n",
                "\t\t}\n",
                ")\n",
                "print(response)"
            ]
        },
        {
            "cell_type": "markdown",
            "metadata": {},
            "source": [
                "### Register an application"
            ]
        },
        {
            "cell_type": "code",
            "execution_count": 59,
            "metadata": {},
            "outputs": [
                {
                    "ename": "AIAPIServerException",
                    "evalue": "Failed to post /admin/applications: {\"kind\":\"Status\",\"apiVersion\":\"v1\",\"metadata\":{},\"status\":\"Failure\",\"message\":\"applications.argoproj.io \\\"465f1721-aicore-restaurant-inspections-regression\\\" already exists\",\"reason\":\"AlreadyExists\",\"details\":{\"name\":\"465f1721-aicore-restaurant-inspections-regression\",\"group\":\"argoproj.io\",\"kind\":\"applications\"},\"code\":409}\n",
                    "output_type": "error",
                    "traceback": [
                        "\u001b[0;31m---------------------------------------------------------------------------\u001b[0m",
                        "\u001b[0;31mAIAPIServerException\u001b[0m                      Traceback (most recent call last)",
                        "\u001b[1;32m/Users/I529695/Projects/sce/DiscoveryCenter/qatargas/aicore-restaurant-inspections/src/main.ipynb Cell 9'\u001b[0m in \u001b[0;36m<cell line: 2>\u001b[0;34m()\u001b[0m\n\u001b[1;32m      <a href='vscode-notebook-cell:/Users/I529695/Projects/sce/DiscoveryCenter/qatargas/aicore-restaurant-inspections/src/main.ipynb#ch0000008?line=0'>1</a>\u001b[0m app_json \u001b[39m=\u001b[39m setup_json[\u001b[39m\"\u001b[39m\u001b[39mapp\u001b[39m\u001b[39m\"\u001b[39m]\n\u001b[0;32m----> <a href='vscode-notebook-cell:/Users/I529695/Projects/sce/DiscoveryCenter/qatargas/aicore-restaurant-inspections/src/main.ipynb#ch0000008?line=1'>2</a>\u001b[0m response \u001b[39m=\u001b[39m ai_api_client\u001b[39m.\u001b[39;49mrest_client\u001b[39m.\u001b[39;49mpost(\n\u001b[1;32m      <a href='vscode-notebook-cell:/Users/I529695/Projects/sce/DiscoveryCenter/qatargas/aicore-restaurant-inspections/src/main.ipynb#ch0000008?line=2'>3</a>\u001b[0m \t\tpath\u001b[39m=\u001b[39;49m\u001b[39m\"\u001b[39;49m\u001b[39m/admin/applications\u001b[39;49m\u001b[39m\"\u001b[39;49m,\n\u001b[1;32m      <a href='vscode-notebook-cell:/Users/I529695/Projects/sce/DiscoveryCenter/qatargas/aicore-restaurant-inspections/src/main.ipynb#ch0000008?line=3'>4</a>\u001b[0m \t\tbody\u001b[39m=\u001b[39;49m{\n\u001b[1;32m      <a href='vscode-notebook-cell:/Users/I529695/Projects/sce/DiscoveryCenter/qatargas/aicore-restaurant-inspections/src/main.ipynb#ch0000008?line=4'>5</a>\u001b[0m \t\t\t\t\u001b[39m\"\u001b[39;49m\u001b[39mapplicationName\u001b[39;49m\u001b[39m\"\u001b[39;49m: app_json[\u001b[39m\"\u001b[39;49m\u001b[39mapplicationName\u001b[39;49m\u001b[39m\"\u001b[39;49m],\n\u001b[1;32m      <a href='vscode-notebook-cell:/Users/I529695/Projects/sce/DiscoveryCenter/qatargas/aicore-restaurant-inspections/src/main.ipynb#ch0000008?line=5'>6</a>\u001b[0m \t\t\t\t\u001b[39m\"\u001b[39;49m\u001b[39mrepositoryUrl\u001b[39;49m\u001b[39m\"\u001b[39;49m: app_json[\u001b[39m\"\u001b[39;49m\u001b[39mrepositoryUrl\u001b[39;49m\u001b[39m\"\u001b[39;49m],\n\u001b[1;32m      <a href='vscode-notebook-cell:/Users/I529695/Projects/sce/DiscoveryCenter/qatargas/aicore-restaurant-inspections/src/main.ipynb#ch0000008?line=6'>7</a>\u001b[0m \t\t\t\t\u001b[39m\"\u001b[39;49m\u001b[39mrevision\u001b[39;49m\u001b[39m\"\u001b[39;49m: app_json[\u001b[39m\"\u001b[39;49m\u001b[39mrevision\u001b[39;49m\u001b[39m\"\u001b[39;49m],\n\u001b[1;32m      <a href='vscode-notebook-cell:/Users/I529695/Projects/sce/DiscoveryCenter/qatargas/aicore-restaurant-inspections/src/main.ipynb#ch0000008?line=7'>8</a>\u001b[0m \t\t\t\t\u001b[39m\"\u001b[39;49m\u001b[39mpath\u001b[39;49m\u001b[39m\"\u001b[39;49m: app_json[\u001b[39m\"\u001b[39;49m\u001b[39mpath\u001b[39;49m\u001b[39m\"\u001b[39;49m]\n\u001b[1;32m      <a href='vscode-notebook-cell:/Users/I529695/Projects/sce/DiscoveryCenter/qatargas/aicore-restaurant-inspections/src/main.ipynb#ch0000008?line=8'>9</a>\u001b[0m \t\t}\n\u001b[1;32m     <a href='vscode-notebook-cell:/Users/I529695/Projects/sce/DiscoveryCenter/qatargas/aicore-restaurant-inspections/src/main.ipynb#ch0000008?line=9'>10</a>\u001b[0m )\n",
                        "File \u001b[0;32m/usr/local/Caskroom/miniconda/base/envs/qatar-dc/lib/python3.9/site-packages/ai_api_client_sdk/helpers/rest_client.py:108\u001b[0m, in \u001b[0;36mRestClient.post\u001b[0;34m(self, path, body, resource_group)\u001b[0m\n\u001b[1;32m     83\u001b[0m \u001b[39mdef\u001b[39;00m \u001b[39mpost\u001b[39m(\u001b[39mself\u001b[39m, path: \u001b[39mstr\u001b[39m, body: Dict[\u001b[39mstr\u001b[39m, Union[\u001b[39mstr\u001b[39m, \u001b[39mdict\u001b[39m]] \u001b[39m=\u001b[39m \u001b[39mNone\u001b[39;00m, resource_group: \u001b[39mstr\u001b[39m \u001b[39m=\u001b[39m \u001b[39mNone\u001b[39;00m) \u001b[39m-\u001b[39m\u001b[39m>\u001b[39m \u001b[39mdict\u001b[39m:\n\u001b[1;32m     84\u001b[0m     \u001b[39m\"\"\"Sends a POST request to the server.\u001b[39;00m\n\u001b[1;32m     85\u001b[0m \n\u001b[1;32m     86\u001b[0m \u001b[39m    :param path: path of the endpoint the request should be sent to\u001b[39;00m\n\u001b[0;32m   (...)\u001b[0m\n\u001b[1;32m    106\u001b[0m \u001b[39m    :rtype: dict\u001b[39;00m\n\u001b[1;32m    107\u001b[0m \u001b[39m    \"\"\"\u001b[39;00m\n\u001b[0;32m--> 108\u001b[0m     \u001b[39mreturn\u001b[39;00m \u001b[39mself\u001b[39;49m\u001b[39m.\u001b[39;49m_handle_request(\u001b[39m'\u001b[39;49m\u001b[39mpost\u001b[39;49m\u001b[39m'\u001b[39;49m, path\u001b[39m=\u001b[39;49mpath, body_json\u001b[39m=\u001b[39;49mbody, resource_group\u001b[39m=\u001b[39;49mresource_group)\n",
                        "File \u001b[0;32m/usr/local/Caskroom/miniconda/base/envs/qatar-dc/lib/python3.9/site-packages/ai_api_client_sdk/helpers/rest_client.py:75\u001b[0m, in \u001b[0;36mRestClient._handle_request\u001b[0;34m(self, method, path, params, body_json, resource_group)\u001b[0m\n\u001b[1;32m     71\u001b[0m         \u001b[39mraise\u001b[39;00m AIAPIPreconditionFailedException(description\u001b[39m=\u001b[39merror_description, error_message\u001b[39m=\u001b[39merror_message,\n\u001b[1;32m     72\u001b[0m                                                error_code\u001b[39m=\u001b[39merror_code, request_id\u001b[39m=\u001b[39mrequest_id,\n\u001b[1;32m     73\u001b[0m                                                details\u001b[39m=\u001b[39merror_details)\n\u001b[1;32m     74\u001b[0m     \u001b[39melse\u001b[39;00m:\n\u001b[0;32m---> 75\u001b[0m         \u001b[39mraise\u001b[39;00m AIAPIServerException(status_code\u001b[39m=\u001b[39mstatus_code, description\u001b[39m=\u001b[39merror_description,\n\u001b[1;32m     76\u001b[0m                                    error_message\u001b[39m=\u001b[39merror_message, error_code\u001b[39m=\u001b[39merror_code, request_id\u001b[39m=\u001b[39mrequest_id,\n\u001b[1;32m     77\u001b[0m                                    details\u001b[39m=\u001b[39merror_details)\n\u001b[1;32m     78\u001b[0m \u001b[39melif\u001b[39;00m response\u001b[39m.\u001b[39mstatus_code \u001b[39m/\u001b[39m\u001b[39m/\u001b[39m \u001b[39m100\u001b[39m \u001b[39m!=\u001b[39m \u001b[39m2\u001b[39m:\n\u001b[1;32m     79\u001b[0m     \u001b[39mraise\u001b[39;00m AIAPIServerException(description\u001b[39m=\u001b[39merror_description, error_message\u001b[39m=\u001b[39mresponse\u001b[39m.\u001b[39mtext,\n\u001b[1;32m     80\u001b[0m                                status_code\u001b[39m=\u001b[39mresponse\u001b[39m.\u001b[39mstatus_code)\n",
                        "\u001b[0;31mAIAPIServerException\u001b[0m: Failed to post /admin/applications: {\"kind\":\"Status\",\"apiVersion\":\"v1\",\"metadata\":{},\"status\":\"Failure\",\"message\":\"applications.argoproj.io \\\"465f1721-aicore-restaurant-inspections-regression\\\" already exists\",\"reason\":\"AlreadyExists\",\"details\":{\"name\":\"465f1721-aicore-restaurant-inspections-regression\",\"group\":\"argoproj.io\",\"kind\":\"applications\"},\"code\":409}\n"
                    ]
                }
            ],
            "source": [
                "app_json = setup_json[\"app\"]\n",
                "response = ai_api_client.rest_client.post(\n",
                "\t\tpath=\"/admin/applications\",\n",
                "\t\tbody={\n",
                "\t\t\t\t\"applicationName\": app_json[\"applicationName\"],\n",
                "\t\t\t\t\"repositoryUrl\": app_json[\"repositoryUrl\"],\n",
                "\t\t\t\t\"revision\": app_json[\"revision\"],\n",
                "\t\t\t\t\"path\": app_json[\"path\"]\n",
                "\t\t}\n",
                ")"
            ]
        },
        {
            "cell_type": "markdown",
            "metadata": {},
            "source": [
                "### Register docker secret"
            ]
        },
        {
            "cell_type": "code",
            "execution_count": 60,
            "metadata": {},
            "outputs": [
                {
                    "name": "stdout",
                    "output_type": "stream",
                    "text": [
                        "{'message': 'Secret exists'}\n"
                    ]
                }
            ],
            "source": [
                "with open(docker_secret_file_path) as dsf:\n",
                "    docker_secret = json.load(dsf)\n",
                "\n",
                "response = ai_api_client.rest_client.post(\n",
                "    path=\"/admin/dockerRegistrySecrets\",\n",
                "    body={\n",
                "        \"name\": docker_secret[\"name\"],\n",
                "        \"data\": docker_secret[\"data\"]\n",
                "    }\n",
                ")\n",
                "print(response)"
            ]
        },
        {
            "cell_type": "markdown",
            "metadata": {},
            "source": [
                "### Create a resource group"
            ]
        },
        {
            "cell_type": "code",
            "execution_count": 61,
            "metadata": {},
            "outputs": [
                {
                    "data": {
                        "text/plain": [
                            "{'resource_group_id': 'restaurant-inspections',\n",
                            " 'tenant_id': '7a679f0f-5150-4a1e-bbfe-572dd63e1a23',\n",
                            " 'zone_id': ''}"
                        ]
                    },
                    "execution_count": 61,
                    "metadata": {},
                    "output_type": "execute_result"
                }
            ],
            "source": [
                "ai_api_client.rest_client.post(\n",
                "    path=\"/admin/resourceGroups\",\n",
                "    body={\n",
                "        \"resourceGroupId\": resource_group\n",
                "    }\n",
                ")"
            ]
        },
        {
            "cell_type": "markdown",
            "metadata": {},
            "source": [
                "TRAINING DATASET NEEDS TO BE UPLOADED TO AMAZON S3 SEPARATELY, FOR EXAMPLE VIA AWS CLI.  \n",
                "See: https://developers.sap.com/tutorials/ai-core-aiapi-clientsdk-resources.html#45dcbe5b-a94f-461e-b9eb-54f2d965e930\n",
                "\n",
                "### Register secret to access dataset in Amazon S3 and create resource group"
            ]
        },
        {
            "cell_type": "code",
            "execution_count": 62,
            "metadata": {},
            "outputs": [
                {
                    "data": {
                        "text/plain": [
                            "{'message': 'Secret exists'}"
                        ]
                    },
                    "execution_count": 62,
                    "metadata": {},
                    "output_type": "execute_result"
                }
            ],
            "source": [
                "with open(s3_service_key_path) as s3sk:\n",
                "    s3_service_key = json.load(s3sk)\n",
                "\n",
                "default_secret = {\n",
                "    \"name\": connection_name, # Name of the connection.\n",
                "    \"type\": \"S3\",\n",
                "    \"endpoint\": s3_service_key[\"host\"],\n",
                "    \"bucket\": s3_service_key[\"bucket\"],\n",
                "    \"pathPrefix\": path_prefix,\n",
                "    \"region\": s3_service_key[\"region\"],\n",
                "    \"data\": {\n",
                "        \"AWS_ACCESS_KEY_ID\": s3_service_key[\"access_key_id\"],\n",
                "        \"AWS_SECRET_ACCESS_KEY\": s3_service_key[\"secret_access_key\"]\n",
                "    }\n",
                "}\n",
                "\n",
                "ai_api_client.rest_client.post(\n",
                "    path=\"/admin/objectStoreSecrets\",\n",
                "    body = default_secret,\n",
                "    resource_group = resource_group\n",
                ")"
            ]
        },
        {
            "cell_type": "markdown",
            "metadata": {},
            "source": [
                "DOCKER IMAGES STORED IN code/train AND code/infer NEED TO BE BUILT AND PUSHED TO DOCKER HUB\n",
                "THROUGH THE DOCKER CLI.  \n",
                "See: https://developers.sap.com/tutorials/ai-core-aiapi-clientsdk-workflows.html#f824a41d-efe8-4883-8238-caef4ac5f789"
            ]
        },
        {
            "cell_type": "code",
            "execution_count": 63,
            "metadata": {},
            "outputs": [],
            "source": [
                "# Create another AI API client to use different base url.\n",
                "ai_api_v2_client = AIAPIV2Client(\n",
                "    base_url=aic_service_key[\"serviceurls\"][\"AI_API_URL\"] + \"/v2/lm\",\n",
                "    auth_url=aic_service_key[\"url\"] + \"/oauth/token\",\n",
                "    client_id=aic_service_key['clientid'],\n",
                "    client_secret=aic_service_key['clientsecret'],\n",
                "    resource_group=resource_group)"
            ]
        },
        {
            "cell_type": "markdown",
            "metadata": {},
            "source": [
                "### Register training data as artifact"
            ]
        },
        {
            "cell_type": "code",
            "execution_count": 65,
            "metadata": {},
            "outputs": [
                {
                    "name": "stdout",
                    "output_type": "stream",
                    "text": [
                        "Artifacts registered for inspection-mo-regression scenario!\n",
                        "{'id': '72376cf6-367d-4bc5-bdd6-9436ce58031e',\n",
                        " 'message': 'Artifact acknowledged',\n",
                        " 'url': 'ai://default/data'}\n"
                    ]
                }
            ],
            "source": [
                "with open(training_workflow_file) as twf:\n",
                "    training_workflow = yaml.safe_load(twf)\n",
                "\n",
                "scenario_id = training_workflow['metadata']['labels']['scenarios.ai.sap.com/id']\n",
                "\n",
                "# Set the artifact configuration.\n",
                "artifact = {\n",
                "        \"name\": resource_group, # Modifiable name\n",
                "        \"kind\": Artifact.Kind.DATASET,\n",
                "        # Path has to contain the connection name used above for the AWS S3 bucket.\n",
                "        \"url\": f\"ai://{connection_name}/data\",\n",
                "        \"description\": \"The training data set.\",\n",
                "        \"scenario_id\": scenario_id\n",
                "}\n",
                "\n",
                "artifact_resp = ai_api_v2_client.artifact.create(**artifact)\n",
                "print(f\"Artifacts registered for {scenario_id} scenario!\")\n",
                "pprint(vars(artifact_resp)) \n",
                "\n",
                "assert artifact_resp.message == 'Artifact acknowledged'"
            ]
        },
        {
            "cell_type": "markdown",
            "metadata": {},
            "source": [
                "### Create Training Configuration"
            ]
        },
        {
            "cell_type": "code",
            "execution_count": 71,
            "metadata": {},
            "outputs": [
                {
                    "name": "stdout",
                    "output_type": "stream",
                    "text": [
                        "{'id': 'c62eb93f-3f82-46f9-acd5-b3f1cbaec934',\n",
                        " 'message': 'Configuration created'}\n",
                        "Configuration created for running the training\n"
                    ]
                }
            ],
            "source": [
                "input_artifact_name = training_workflow['spec']['templates'][0]['inputs']['artifacts'][0]['name']\n",
                "executable_name = training_workflow['metadata']['name']\n",
                "\n",
                "artifact_binding = {\n",
                "    \"key\": input_artifact_name,\n",
                "    \"artifact_id\": artifact_resp.id\n",
                "}\n",
                "\n",
                "train_configuration = {\n",
                "    \"name\": resource_group,\n",
                "    \"scenario_id\": scenario_id,\n",
                "    \"executable_id\": executable_name,\n",
                "    \"parameter_bindings\": [],\n",
                "    \"input_artifact_bindings\": [ InputArtifactBinding(**artifact_binding) ]\n",
                "}\n",
                "\n",
                "train_config_resp = ai_api_v2_client.configuration.create(**train_configuration)\n",
                "pprint(vars(train_config_resp))\n",
                "\n",
                "assert train_config_resp.message == 'Configuration created'\n",
                "\n",
                "print(\"Configuration created for running the training\")"
            ]
        },
        {
            "cell_type": "markdown",
            "metadata": {},
            "source": [
                "### Training Execution"
            ]
        },
        {
            "cell_type": "code",
            "execution_count": 74,
            "metadata": {},
            "outputs": [
                {
                    "name": "stdout",
                    "output_type": "stream",
                    "text": [
                        "...... execution status ......\n",
                        "Training status: Status.DEAD\n",
                        "Training status details: {'details': [{'container_name': 'main', 'exit_code': 1, 'last_log_messages': 'ne 668, in cached_download    raise ValueError(ValueError: Connection error, and we cannot find the requested files in the cached path. Please try again or make sure your Internet connection is on....', 'message': '', 'pod_name': 'eceb98080e1214ff', 'ready': False}, {'container_name': 'wait', 'exit_code': 0, 'last_log_messages': '465e3f3 90f785137d0cefe4ac71c2b9885377aebc600822ad26b0d743f2c15ce9d77343] killed successfully\"time=\"2022-07-12T09:58:***\" level=info msg=\"Alloc=5146 TotalAlloc=22909 Sys=73553 NumGC=7 Goroutines=10\"...', 'message': '', 'pod_name': 'eceb98080e1214ff', 'ready': False}], 'workflow_info': [{'exit_code': '1', 'id': 'eceb98080e1214ff', 'message': 'Error (exit code 1)', 'name': 'eceb98080e1214ff', 'outputs': '', 'phase': 'Failed', 'type': 'Pod'}]}\n"
                    ]
                }
            ],
            "source": [
                "execution_resp = ai_api_v2_client.execution.create(train_config_resp.id)\n",
                "pprint(vars(execution_resp))\n",
                "\n",
                "status = None\n",
                "# Wait until training finished.\n",
                "while status != Status.COMPLETED and status != Status.DEAD:\n",
                "    # Sleep for 5 secs to avoid overwhelming the API with requests.\n",
                "    time.sleep(5)\n",
                "    # Clear outputs to reduce clutter.\n",
                "    clear_output(wait=True)\n",
                "\n",
                "    execution = ai_api_v2_client.execution.get(execution_resp.id)\n",
                "    status = execution.status\n",
                "    print('...... execution status ......', flush=True)\n",
                "    print(f\"Training status: {execution.status}\")\n",
                "    print(f\"Training status details: {execution.status_details}\")\n",
                "\n",
                "\n",
                "if execution.status == Status.COMPLETED:\n",
                "    print(f\"Training complete for execution [{execution_resp.id}]!\")\n",
                "    output_artifact = execution.output_artifacts[0]\n",
                "    output = {\n",
                "        \"id\": output_artifact.id,\n",
                "        \"name\": output_artifact.name,\n",
                "        \"url\": output_artifact.url\n",
                "    }\n",
                "    with open('../training_output.json', 'w') as fp:\n",
                "        json.dump(output, fp)"
            ]
        },
        {
            "cell_type": "markdown",
            "metadata": {},
            "source": [
                "### Create configuration to serve the model"
            ]
        },
        {
            "cell_type": "code",
            "execution_count": 81,
            "metadata": {},
            "outputs": [
                {
                    "name": "stdout",
                    "output_type": "stream",
                    "text": [
                        "{'apiVersion': 'ai.sap.com/v1alpha1',\n",
                        " 'kind': 'ServingTemplate',\n",
                        " 'metadata': {'annotations': {'executables.ai.sap.com/description': 'Serve a '\n",
                        "                                                                    'multioutput '\n",
                        "                                                                    'regressionression '\n",
                        "                                                                    'model.',\n",
                        "                              'executables.ai.sap.com/name': 'inspection-mo-regression-infer-exec',\n",
                        "                              'scenarios.ai.sap.com/description': 'Train and '\n",
                        "                                                                  'serve a '\n",
                        "                                                                  'multioutput '\n",
                        "                                                                  'regressionression '\n",
                        "                                                                  'model.',\n",
                        "                              'scenarios.ai.sap.com/name': 'inspection-mo-regression-scenario'},\n",
                        "              'labels': {'ai.sap.com/version': '0.0.1',\n",
                        "                         'scenarios.ai.sap.com/id': 'inspection-mo-regression'},\n",
                        "              'name': 'inspection-mo-regression-infer-0'},\n",
                        " 'spec': {'inputs': {'artifacts': [{'name': 'inspection-mo-regression-model'}],\n",
                        "                     'parameters': []},\n",
                        "          'template': {'apiVersion': 'serving.kubeflow.org/v1beta1',\n",
                        "                       'metadata': {'annotations': 'autoscaling.knative.dev/metric: '\n",
                        "                                                   'concurrency\\n'\n",
                        "                                                   'autoscaling.knative.dev/target: '\n",
                        "                                                   '1\\n'\n",
                        "                                                   'autoscaling.knative.dev/targetBurstCapacity: '\n",
                        "                                                   '0\\n',\n",
                        "                                    'labels': 'ai.sap.com/resourcePlan: '\n",
                        "                                              'starter\\n'},\n",
                        "                       'spec': 'predictor:\\n'\n",
                        "                               '  imagePullSecrets:\\n'\n",
                        "                               '    - name: docker-registry-secret\\n'\n",
                        "                               '  minReplicas: 1\\n'\n",
                        "                               '  maxReplicas: 5\\n'\n",
                        "                               '  containers:\\n'\n",
                        "                               '  - name: kfserving-container\\n'\n",
                        "                               '    image: '\n",
                        "                               '\"docker.io/kayschmitteckert/inspection-mo-regression-cpu-serve:0.0.1\"\\n'\n",
                        "                               '    ports:\\n'\n",
                        "                               '      - containerPort: 9001\\n'\n",
                        "                               '        protocol: TCP\\n'\n",
                        "                               '    env:\\n'\n",
                        "                               '      - name: STORAGE_URI\\n'\n",
                        "                               '        value: '\n",
                        "                               '\"{{inputs.artifacts.inspection-mo-regression-model}}\"'}}}\n"
                    ]
                },
                {
                    "ename": "AIAPINotFoundException",
                    "evalue": "Failed to post /configurations: Not Found, Could not create configuration because executable inspection-mo-regression-infer-0 for scenario inspection-mo-regression wasn't found..",
                    "output_type": "error",
                    "traceback": [
                        "\u001b[0;31m---------------------------------------------------------------------------\u001b[0m",
                        "\u001b[0;31mAIAPINotFoundException\u001b[0m                    Traceback (most recent call last)",
                        "\u001b[1;32m/Users/I529695/Projects/sce/DiscoveryCenter/qatargas/aicore-restaurant-inspections/src/main.ipynb Cell 25'\u001b[0m in \u001b[0;36m<cell line: 25>\u001b[0;34m()\u001b[0m\n\u001b[1;32m     <a href='vscode-notebook-cell:/Users/I529695/Projects/sce/DiscoveryCenter/qatargas/aicore-restaurant-inspections/src/main.ipynb#ch0000024?line=11'>12</a>\u001b[0m artifact_binding \u001b[39m=\u001b[39m {\n\u001b[1;32m     <a href='vscode-notebook-cell:/Users/I529695/Projects/sce/DiscoveryCenter/qatargas/aicore-restaurant-inspections/src/main.ipynb#ch0000024?line=12'>13</a>\u001b[0m     \u001b[39m\"\u001b[39m\u001b[39mkey\u001b[39m\u001b[39m\"\u001b[39m: input_artifact_name,\n\u001b[1;32m     <a href='vscode-notebook-cell:/Users/I529695/Projects/sce/DiscoveryCenter/qatargas/aicore-restaurant-inspections/src/main.ipynb#ch0000024?line=13'>14</a>\u001b[0m     \u001b[39m\"\u001b[39m\u001b[39martifact_id\u001b[39m\u001b[39m\"\u001b[39m: serving_input[\u001b[39m\"\u001b[39m\u001b[39mid\u001b[39m\u001b[39m\"\u001b[39m]\n\u001b[1;32m     <a href='vscode-notebook-cell:/Users/I529695/Projects/sce/DiscoveryCenter/qatargas/aicore-restaurant-inspections/src/main.ipynb#ch0000024?line=14'>15</a>\u001b[0m }\n\u001b[1;32m     <a href='vscode-notebook-cell:/Users/I529695/Projects/sce/DiscoveryCenter/qatargas/aicore-restaurant-inspections/src/main.ipynb#ch0000024?line=16'>17</a>\u001b[0m serve_configuration \u001b[39m=\u001b[39m {\n\u001b[1;32m     <a href='vscode-notebook-cell:/Users/I529695/Projects/sce/DiscoveryCenter/qatargas/aicore-restaurant-inspections/src/main.ipynb#ch0000024?line=17'>18</a>\u001b[0m     \u001b[39m\"\u001b[39m\u001b[39mname\u001b[39m\u001b[39m\"\u001b[39m: \u001b[39m\"\u001b[39m\u001b[39mrisk-serve\u001b[39m\u001b[39m\"\u001b[39m,\n\u001b[1;32m     <a href='vscode-notebook-cell:/Users/I529695/Projects/sce/DiscoveryCenter/qatargas/aicore-restaurant-inspections/src/main.ipynb#ch0000024?line=18'>19</a>\u001b[0m     \u001b[39m\"\u001b[39m\u001b[39mscenario_id\u001b[39m\u001b[39m\"\u001b[39m: scenario_id,\n\u001b[0;32m   (...)\u001b[0m\n\u001b[1;32m     <a href='vscode-notebook-cell:/Users/I529695/Projects/sce/DiscoveryCenter/qatargas/aicore-restaurant-inspections/src/main.ipynb#ch0000024?line=21'>22</a>\u001b[0m     \u001b[39m\"\u001b[39m\u001b[39minput_artifact_bindings\u001b[39m\u001b[39m\"\u001b[39m: [ InputArtifactBinding(\u001b[39m*\u001b[39m\u001b[39m*\u001b[39martifact_binding) ]\n\u001b[1;32m     <a href='vscode-notebook-cell:/Users/I529695/Projects/sce/DiscoveryCenter/qatargas/aicore-restaurant-inspections/src/main.ipynb#ch0000024?line=22'>23</a>\u001b[0m }\n\u001b[0;32m---> <a href='vscode-notebook-cell:/Users/I529695/Projects/sce/DiscoveryCenter/qatargas/aicore-restaurant-inspections/src/main.ipynb#ch0000024?line=24'>25</a>\u001b[0m serve_config_resp \u001b[39m=\u001b[39m ai_api_v2_client\u001b[39m.\u001b[39;49mconfiguration\u001b[39m.\u001b[39;49mcreate(\u001b[39m*\u001b[39;49m\u001b[39m*\u001b[39;49mserve_configuration)\n\u001b[1;32m     <a href='vscode-notebook-cell:/Users/I529695/Projects/sce/DiscoveryCenter/qatargas/aicore-restaurant-inspections/src/main.ipynb#ch0000024?line=26'>27</a>\u001b[0m \u001b[39massert\u001b[39;00m serve_config_resp\u001b[39m.\u001b[39mmessage \u001b[39m==\u001b[39m \u001b[39m'\u001b[39m\u001b[39mConfiguration created\u001b[39m\u001b[39m'\u001b[39m\n\u001b[1;32m     <a href='vscode-notebook-cell:/Users/I529695/Projects/sce/DiscoveryCenter/qatargas/aicore-restaurant-inspections/src/main.ipynb#ch0000024?line=28'>29</a>\u001b[0m pprint(\u001b[39mvars\u001b[39m(serve_config_resp))\n",
                        "File \u001b[0;32m/usr/local/Caskroom/miniconda/base/envs/qatar-dc/lib/python3.9/site-packages/ai_api_client_sdk/resource_clients/configuration_client.py:57\u001b[0m, in \u001b[0;36mConfigurationClient.create\u001b[0;34m(self, name, scenario_id, executable_id, parameter_bindings, input_artifact_bindings, resource_group)\u001b[0m\n\u001b[1;32m     55\u001b[0m \u001b[39mif\u001b[39;00m input_artifact_bindings:\n\u001b[1;32m     56\u001b[0m     body[\u001b[39m'\u001b[39m\u001b[39minput_artifact_bindings\u001b[39m\u001b[39m'\u001b[39m] \u001b[39m=\u001b[39m [iab\u001b[39m.\u001b[39mto_dict() \u001b[39mfor\u001b[39;00m iab \u001b[39min\u001b[39;00m input_artifact_bindings]\n\u001b[0;32m---> 57\u001b[0m response_dict \u001b[39m=\u001b[39m \u001b[39mself\u001b[39;49m\u001b[39m.\u001b[39;49mrest_client\u001b[39m.\u001b[39;49mpost(path\u001b[39m=\u001b[39;49m\u001b[39m'\u001b[39;49m\u001b[39m/configurations\u001b[39;49m\u001b[39m'\u001b[39;49m, body\u001b[39m=\u001b[39;49mbody, resource_group\u001b[39m=\u001b[39;49mresource_group)\n\u001b[1;32m     58\u001b[0m \u001b[39mreturn\u001b[39;00m ConfigurationCreateResponse\u001b[39m.\u001b[39mfrom_dict(response_dict)\n",
                        "File \u001b[0;32m/usr/local/Caskroom/miniconda/base/envs/qatar-dc/lib/python3.9/site-packages/ai_api_client_sdk/helpers/rest_client.py:108\u001b[0m, in \u001b[0;36mRestClient.post\u001b[0;34m(self, path, body, resource_group)\u001b[0m\n\u001b[1;32m     83\u001b[0m \u001b[39mdef\u001b[39;00m \u001b[39mpost\u001b[39m(\u001b[39mself\u001b[39m, path: \u001b[39mstr\u001b[39m, body: Dict[\u001b[39mstr\u001b[39m, Union[\u001b[39mstr\u001b[39m, \u001b[39mdict\u001b[39m]] \u001b[39m=\u001b[39m \u001b[39mNone\u001b[39;00m, resource_group: \u001b[39mstr\u001b[39m \u001b[39m=\u001b[39m \u001b[39mNone\u001b[39;00m) \u001b[39m-\u001b[39m\u001b[39m>\u001b[39m \u001b[39mdict\u001b[39m:\n\u001b[1;32m     84\u001b[0m     \u001b[39m\"\"\"Sends a POST request to the server.\u001b[39;00m\n\u001b[1;32m     85\u001b[0m \n\u001b[1;32m     86\u001b[0m \u001b[39m    :param path: path of the endpoint the request should be sent to\u001b[39;00m\n\u001b[0;32m   (...)\u001b[0m\n\u001b[1;32m    106\u001b[0m \u001b[39m    :rtype: dict\u001b[39;00m\n\u001b[1;32m    107\u001b[0m \u001b[39m    \"\"\"\u001b[39;00m\n\u001b[0;32m--> 108\u001b[0m     \u001b[39mreturn\u001b[39;00m \u001b[39mself\u001b[39;49m\u001b[39m.\u001b[39;49m_handle_request(\u001b[39m'\u001b[39;49m\u001b[39mpost\u001b[39;49m\u001b[39m'\u001b[39;49m, path\u001b[39m=\u001b[39;49mpath, body_json\u001b[39m=\u001b[39;49mbody, resource_group\u001b[39m=\u001b[39;49mresource_group)\n",
                        "File \u001b[0;32m/usr/local/Caskroom/miniconda/base/envs/qatar-dc/lib/python3.9/site-packages/ai_api_client_sdk/helpers/rest_client.py:68\u001b[0m, in \u001b[0;36mRestClient._handle_request\u001b[0;34m(self, method, path, params, body_json, resource_group)\u001b[0m\n\u001b[1;32m     65\u001b[0m     \u001b[39mraise\u001b[39;00m AIAPIInvalidRequestException(description\u001b[39m=\u001b[39merror_description, error_message\u001b[39m=\u001b[39merror_message,\n\u001b[1;32m     66\u001b[0m                                        error_code\u001b[39m=\u001b[39merror_code, request_id\u001b[39m=\u001b[39mrequest_id, details\u001b[39m=\u001b[39merror_details)\n\u001b[1;32m     67\u001b[0m \u001b[39melif\u001b[39;00m status_code \u001b[39m==\u001b[39m \u001b[39m404\u001b[39m:\n\u001b[0;32m---> 68\u001b[0m     \u001b[39mraise\u001b[39;00m AIAPINotFoundException(description\u001b[39m=\u001b[39merror_description, error_message\u001b[39m=\u001b[39merror_message,\n\u001b[1;32m     69\u001b[0m                                  error_code\u001b[39m=\u001b[39merror_code, request_id\u001b[39m=\u001b[39mrequest_id, details\u001b[39m=\u001b[39merror_details)\n\u001b[1;32m     70\u001b[0m \u001b[39melif\u001b[39;00m status_code \u001b[39m==\u001b[39m \u001b[39m412\u001b[39m:\n\u001b[1;32m     71\u001b[0m     \u001b[39mraise\u001b[39;00m AIAPIPreconditionFailedException(description\u001b[39m=\u001b[39merror_description, error_message\u001b[39m=\u001b[39merror_message,\n\u001b[1;32m     72\u001b[0m                                            error_code\u001b[39m=\u001b[39merror_code, request_id\u001b[39m=\u001b[39mrequest_id,\n\u001b[1;32m     73\u001b[0m                                            details\u001b[39m=\u001b[39merror_details)\n",
                        "\u001b[0;31mAIAPINotFoundException\u001b[0m: Failed to post /configurations: Not Found, Could not create configuration because executable inspection-mo-regression-infer-0 for scenario inspection-mo-regression wasn't found.."
                    ]
                }
            ],
            "source": [
                "with open(serving_workflow_file) as swf:\n",
                "    serving_workflow = yaml.safe_load(swf)\n",
                "\n",
                "scenario_id = serving_workflow['metadata']['labels']['scenarios.ai.sap.com/id']\n",
                "input_artifact_name = serving_workflow['spec']['inputs']['artifacts'][0]['name']\n",
                "executable_name = serving_workflow['metadata']['name']\n",
                "\n",
                "training_output = '../training_output.json'\n",
                "with open(training_output) as to:\n",
                "    serving_input = json.load(to)\n",
                "\n",
                "artifact_binding = {\n",
                "    \"key\": input_artifact_name,\n",
                "    \"artifact_id\": serving_input[\"id\"]\n",
                "}\n",
                "\n",
                "serve_configuration = {\n",
                "    \"name\": f\"{resource_group}-serve\",\n",
                "    \"scenario_id\": scenario_id,\n",
                "    \"executable_id\": executable_name,\n",
                "    \"parameter_bindings\": [],\n",
                "    \"input_artifact_bindings\": [ InputArtifactBinding(**artifact_binding) ]\n",
                "}\n",
                "\n",
                "serve_config_resp = ai_api_v2_client.configuration.create(**serve_configuration)\n",
                "\n",
                "assert serve_config_resp.message == 'Configuration created'\n",
                "\n",
                "pprint(vars(serve_config_resp))\n",
                "print(\"configuration for serving the model created\")"
            ]
        },
        {
            "cell_type": "markdown",
            "metadata": {},
            "source": [
                "### Actually serve/deploy the model"
            ]
        },
        {
            "cell_type": "code",
            "execution_count": null,
            "metadata": {},
            "outputs": [],
            "source": [
                "deployment_resp = ai_api_v2_client.deployment.create(serve_config_resp.id)\n",
                "pprint(vars(deployment_resp))\n",
                "\n",
                "# Poll deployment status.\n",
                "status = None\n",
                "while status != Status.RUNNING and status != Status.DEAD:\n",
                "    time.sleep(5)\n",
                "    clear_output(wait=True)\n",
                "    deployment = ai_api_v2_client.deployment.get(deployment_resp.id)\n",
                "    status = deployment.status\n",
                "    print('...... deployment status ......', flush=True)\n",
                "    print(deployment.status)\n",
                "    pprint(deployment.status_details)\n",
                "\n",
                "    if deployment.status == Status.RUNNING:\n",
                "        print(f\"Deployment with {deployment_resp.id} complete!\")\n",
                "\n",
                "# Allow some time for deployment URL to get ready.\n",
                "time.sleep(10)"
            ]
        },
        {
            "cell_type": "markdown",
            "metadata": {},
            "source": [
                "### Do an inference request"
            ]
        },
        {
            "cell_type": "code",
            "execution_count": null,
            "metadata": {},
            "outputs": [],
            "source": [
                "body = {\n",
                "    \"functional_locations\": [\n",
                "        \"QG2/ON/20/31/20ESDV310026\",\n",
                "        \"QG2/ON/24/06/24PT060128A\",\n",
                "        \"QG2/ON/25/06/25LT060026B\",\n",
                "        \"QG2/ON/20/31/20ESDV310011\",\n",
                "        \"QG2/ON/24/08/24LT080025A\",\n",
                "        \"QG2/ON/25/09/25FT090016C\",\n",
                "        \"QG2/ON/24/04/24LT040016A\",\n",
                "        \"QG2/ON/24/09/24FT090019C\",\n",
                "        \"QG2/ON/29/92/29TT92A009AB\",\n",
                "        \"QG2/ON/24/09/24BE090002A\"\n",
                "    ]\n",
                "}\n",
                "\n",
                "endpoint = f\"{deployment.deployment_url}/v1/models/{resource_group}:predict\"\n",
                "headers = {\"Authorization\": ai_api_v2_client.rest_client.get_token(),\n",
                "           'ai-resource-group': resource_group,\n",
                "           \"Content-Type\": \"application/json\"}\n",
                "response = requests.post(endpoint, headers=headers, json=body)\n",
                "\n",
                "print('Inference result:', response.json())\n",
                "pprint(vars(response))"
            ]
        },
        {
            "cell_type": "markdown",
            "metadata": {},
            "source": [
                "### Kill deployment"
            ]
        },
        {
            "cell_type": "code",
            "execution_count": null,
            "metadata": {},
            "outputs": [],
            "source": [
                "delete_resp = ai_api_v2_client.deployment.modify(deployment_resp.id,\n",
                "                                                 target_status=TargetStatus.STOPPED)\n",
                "status = None\n",
                "while status != Status.STOPPED:\n",
                "    time.sleep(5)\n",
                "    clear_output(wait=True)\n",
                "    deployment = ai_api_v2_client.deployment.get(deployment_resp.id)\n",
                "    status = deployment.status\n",
                "    print('...... killing deployment ......', flush=True)\n",
                "    print(f\"Deployment status: {deployment.status}\")"
            ]
        }
    ],
    "metadata": {
        "kernelspec": {
            "display_name": "Python 3.9.12 64-bit ('qatar-dc')",
            "language": "python",
            "name": "python3"
        },
        "language_info": {
            "codemirror_mode": {
                "name": "ipython",
                "version": 3
            },
            "file_extension": ".py",
            "mimetype": "text/x-python",
            "name": "python",
            "nbconvert_exporter": "python",
            "pygments_lexer": "ipython3",
            "version": "3.9.12"
        },
        "orig_nbformat": 4,
        "vscode": {
            "interpreter": {
                "hash": "2085f17269cc5f0a92df58c5bfe5feeff635fac6ffe4f10f1dcbff18e129c4ed"
            }
        }
    },
    "nbformat": 4,
    "nbformat_minor": 2
}
